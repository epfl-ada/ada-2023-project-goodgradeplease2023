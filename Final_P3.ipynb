{
 "cells": [
  {
   "cell_type": "code",
   "execution_count": null,
   "id": "d11d0932",
   "metadata": {},
   "outputs": [],
   "source": [
    "import pandas as pd\n",
    "import numpy as np\n",
    "import matplotlib.pyplot as plt\n",
    "%matplotlib inline\n",
    "import seaborn as sns\n",
    "import math\n",
    "from scipy.signal import savgol_filter\n",
    "import json\n",
    "from datetime import datetime\n",
    "import statsmodels.api as sm\n",
    "from scipy.stats import pearsonr\n",
    "import warnings\n",
    "warnings.filterwarnings(\"ignore\")\n",
    "from sklearn.preprocessing import StandardScaler\n",
    "from helper_functions import *"
   ]
  },
  {
   "cell_type": "code",
   "execution_count": null,
   "id": "9f8ab983",
   "metadata": {},
   "outputs": [],
   "source": [
    "interventions = load_interventions()\n",
    "d = load_aggregated_timeseries()"
   ]
  },
  {
   "cell_type": "code",
   "execution_count": null,
   "id": "ba9b3938",
   "metadata": {
    "scrolled": false
   },
   "outputs": [],
   "source": [
    "data, df_code = choose_restrictiveness(\"All\", \"Yes\")\n",
    "plot_percent_pageviews(d, df_code, interventions)"
   ]
  },
  {
   "cell_type": "code",
   "execution_count": null,
   "id": "c1e25718",
   "metadata": {
    "scrolled": false
   },
   "outputs": [],
   "source": [
    "plot_normalized_percent_pageviews(d, df_code, interventions, 2.5)"
   ]
  },
  {
   "cell_type": "code",
   "execution_count": null,
   "id": "9edaba8c",
   "metadata": {},
   "outputs": [],
   "source": [
    "data, df_code = choose_restrictiveness(\"Restrictive\", \"Yes\")\n",
    "plot_normalized_percent_pageviews(d, df_code, interventions, 2)"
   ]
  },
  {
   "cell_type": "code",
   "execution_count": null,
   "id": "91c43cc6",
   "metadata": {},
   "outputs": [],
   "source": [
    "data, df_code = choose_restrictiveness(\"Semi-Restrictive\", \"Yes\")\n",
    "plot_normalized_percent_pageviews(d, df_code, interventions, 2.5)"
   ]
  },
  {
   "cell_type": "code",
   "execution_count": null,
   "id": "8366650e",
   "metadata": {},
   "outputs": [],
   "source": [
    "data, df_code = choose_restrictiveness(\"Unrestrictive\", \"Yes\")\n",
    "plot_normalized_percent_pageviews(d, df_code, interventions, 2)"
   ]
  },
  {
   "cell_type": "code",
   "execution_count": null,
   "id": "6079e9e3",
   "metadata": {},
   "outputs": [],
   "source": [
    "data, df_code = choose_restrictiveness(\"All\", \"Yes\")\n",
    "plot_mobility(d, df_code, interventions)"
   ]
  },
  {
   "cell_type": "code",
   "execution_count": null,
   "id": "5fac8d54",
   "metadata": {},
   "outputs": [],
   "source": []
  }
 ],
 "metadata": {
  "kernelspec": {
   "display_name": "Python 3 (ipykernel)",
   "language": "python",
   "name": "python3"
  },
  "language_info": {
   "codemirror_mode": {
    "name": "ipython",
    "version": 3
   },
   "file_extension": ".py",
   "mimetype": "text/x-python",
   "name": "python",
   "nbconvert_exporter": "python",
   "pygments_lexer": "ipython3",
   "version": "3.11.4"
  }
 },
 "nbformat": 4,
 "nbformat_minor": 5
}
