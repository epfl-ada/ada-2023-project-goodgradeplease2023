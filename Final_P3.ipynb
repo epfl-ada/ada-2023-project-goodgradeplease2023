{
 "cells": [
  {
   "cell_type": "code",
   "execution_count": null,
   "id": "cf23db6a",
   "metadata": {},
   "outputs": [],
   "source": [
    "import pandas as pd\n",
    "import numpy as np\n",
    "import matplotlib.pyplot as plt\n",
    "%matplotlib inline\n",
    "import seaborn as sns\n",
    "import math\n",
    "from scipy.signal import savgol_filter\n",
    "import json\n",
    "from datetime import datetime\n",
    "import statsmodels.api as sm\n",
    "from scipy.stats import pearsonr\n",
    "import warnings\n",
    "warnings.filterwarnings(\"ignore\")\n",
    "from sklearn.preprocessing import StandardScaler\n",
    "import os\n",
    "from helper_functions import *\n",
    "\n",
    "import requests\n",
    "import time\n",
    "from causalimpact import CausalImpact\n",
    "\n",
    "from tqdm.notebook import tqdm\n",
    "from bs4 import BeautifulSoup\n",
    "from selenium import webdriver\n",
    "from selenium.webdriver.common.by import By\n",
    "from selenium.webdriver.chrome.options import Options\n",
    "from selenium.webdriver.support.ui import WebDriverWait\n",
    "from selenium.webdriver.support import expected_conditions as EC\n",
    "import threading\n",
    "import csv\n",
    "import gc\n",
    "from lxml import etree\n",
    "import plotly.express as px\n",
    "import plotly.graph_objects as go\n",
    "from plotly.subplots import make_subplots\n",
    "import ipywidgets as widgets\n",
    "from ipywidgets import interact, VBox\n",
    "from IPython.display import display, clear_output\n",
    "import plotly.io as pio\n",
    "from matplotlib.lines import Line2D\n",
    "\n",
    "import dash\n",
    "from dash import dcc, html\n",
    "\n",
    "from scipy.stats import pearsonr"
   ]
  },
  {
   "cell_type": "markdown",
   "id": "78e235c4",
   "metadata": {},
   "source": [
    "- We have in the previous cell downloaded the libraries that will be used to process the dataset. Also, we import most of the relevant datasets in the following cell:"
   ]
  },
  {
   "cell_type": "code",
   "execution_count": null,
   "id": "9d960191",
   "metadata": {},
   "outputs": [],
   "source": [
    "interventions = load_interventions()\n",
    "globalmob = load_globalmob()\n",
    "d = load_aggregated_timeseries()\n",
    "data, df_code = choose_restrictiveness(\"All\", \"Yes\")"
   ]
  },
  {
   "cell_type": "markdown",
   "id": "20ac8e3e",
   "metadata": {},
   "source": [
    "- The dataset relative to the mobility (apple and global) are large (especially the global one, but we can filter them to keep the data we need. Indeed, both dataset contain the mobility change percentage per day, compared to a day 0, per region/country. In the apple dataset, this change are grouped by walking, driving and transit and in the global dataset, the changes are grouped by reason for displacement (go to the park, to the pharmacy, etc). In both dataset, certain country don't have data for all the displacement types. For example, we don't have the transit mobility for korea in the apple dataset. Also, for certains countries, the period over which we have data is smaller than the normal length of the dataset. For example, in the global dataset, there is missing values for every dates between 2020-05-18 and 2020-07-03. To filter the data we can choose to keep only a few countries or region. We chose to keep the countries that are presented in the \"interventions\" dataset."
   ]
  },
  {
   "cell_type": "markdown",
   "id": "26fb7a92",
   "metadata": {},
   "source": [
    "## To what extent can English Wikipedia pages serve as a reliable estimate of the average video game popularity?"
   ]
  },
  {
   "cell_type": "markdown",
   "id": "101c32b0",
   "metadata": {},
   "source": [
    "- We first compare the mobility between england and the average of all the countries we consider to see if there is any relation between them. As we thought, they are not very similar, or at least there is no obvious trend that they both seem to follow. The English mobility recovers more slowly than the average and is reduced a lot more than the average."
   ]
  },
  {
   "cell_type": "code",
   "execution_count": null,
   "id": "93051143",
   "metadata": {},
   "outputs": [],
   "source": [
    "average_mobility(d, df_code, interventions, globalmob)"
   ]
  },
  {
   "cell_type": "markdown",
   "id": "a22b8664",
   "metadata": {},
   "source": [
    "- Afterwards we plot the Wikipedia page views related to video games for each country we cosider, as well as the average trend.\n",
    "- Here we can see the that all of the countries had an increase in video game page views during the lockdown. Some were more impacted than others.\n",
    "- It is important to take into account that we are plotting the amount of video game page views, while taking into account the total page views for that time, therefore we can see how much more often video games are looked up compared to other pages instead of just seeing the increase in Wikipedia searches, since the Wikipedia usage went up in general during the lockdown."
   ]
  },
  {
   "cell_type": "code",
   "execution_count": null,
   "id": "b83b9595",
   "metadata": {
    "scrolled": false
   },
   "outputs": [],
   "source": [
    "plot_percent_pageviews(d, df_code, interventions)"
   ]
  },
  {
   "cell_type": "markdown",
   "id": "b1502807",
   "metadata": {},
   "source": [
    "- Here we want to see if the English Wikipedia page views can represent the average of all other countries well in order to be able to use English as an estimate of the worldwide trend.\n",
    "- At first glance, after having shifted all the lines around 0 in order to be able to compare the trends, English doesn't seem to be a good fit, or at least doesn't seem to be close to the average trend. It actually seems to be on eof the most far off compared to the average, especially during the lockdown as can be seen on the graph below.\n",
    "- However when we scale down the England trend line (divinding it by 2.5), it can be seen that it follows the average trend very well. This shows that the English wikipedia pages follow the worldwide trend in a more exaggerated fashion."
   ]
  },
  {
   "cell_type": "code",
   "execution_count": null,
   "id": "6bd92072",
   "metadata": {
    "scrolled": false
   },
   "outputs": [],
   "source": [
    "plot_normalized_percent_pageviews(d, df_code, interventions)"
   ]
  },
  {
   "cell_type": "markdown",
   "id": "2ff303ce",
   "metadata": {},
   "source": [
    "- Here we look at the smoothened mobility trends to see if England matches any of the three groups better than another, and it fits the semi-restrictive countries the best, which is interesting as the scaled English wikipedia trend above matches the average of the semi-restrictive countries the best. Especially during the lockdown."
   ]
  },
  {
   "cell_type": "code",
   "execution_count": null,
   "id": "50217f9a",
   "metadata": {},
   "outputs": [],
   "source": [
    "plot_mobility(d, df_code, interventions)"
   ]
  },
  {
   "cell_type": "markdown",
   "id": "1dc4af8c",
   "metadata": {},
   "source": [
    "- When looking more specifically at one game, we can see that there are only English Wikipedia searches for Among Us mid-2020. This is due to the fact that the game and it's respective Wikipedia pages only existed in English before youtubers and streamers brought hype to the game.\n",
    "- First of all we can see how the game's popularity multiplied by 10 during the COVID-19 lockdown.\n",
    "- Secondly, we can see how smaller video games are exclusively english when first released as developpers don't have the time or resources to put into developping the game in multiple languages. However when games gain popularity, such as Among Us did, developpers put more resources and time into releasing it in more languages in order to attain a larger audience. \n",
    "- The English spike was higher, but more short lived than the other languages. This is because when more languages exist on the game, players prefer to play in their own language, and therefore shift what Wikipedia page they search up.\n",
    "- We can also see that English was a reliable benchmark to see if Among Us would work in another language with the popularity it gained for the developpers. As predicted, it gained popularity in other languages when they became available.\n",
    "- However if we look at Fall Guys, the numbers of Wikipedia game searches for any language other than English, we cannot say anything as the number of searches are so low (most below 10 searches a day). However if it had enough searches to ignore noise, we could say that it would most likely follow the same trend as the English Wikipedia searches."
   ]
  },
  {
   "cell_type": "code",
   "execution_count": null,
   "id": "05d65ebd",
   "metadata": {},
   "outputs": [],
   "source": [
    "return_specific_game()"
   ]
  },
  {
   "cell_type": "markdown",
   "id": "11aa4aeb",
   "metadata": {},
   "source": [
    "## What about specific types of video games"
   ]
  },
  {
   "cell_type": "markdown",
   "id": "0b9060d0",
   "metadata": {},
   "source": [
    "- Since there are many pages in different languages for the same wikipidea item, it is essential to extract the translated version for the languages other than English. \n",
    "- Here we use WikiMidea API to extract the current wikipidea pages of the game topics in all languages for further analysis."
   ]
  },
  {
   "cell_type": "code",
   "execution_count": null,
   "id": "aa429b7f",
   "metadata": {},
   "outputs": [],
   "source": [
    "df_topiclinked = pd.read_csv('topics_linked.csv') #import the topic_linked dataset"
   ]
  },
  {
   "cell_type": "code",
   "execution_count": null,
   "id": "befdb144",
   "metadata": {},
   "outputs": [],
   "source": [
    "div = save_topics_in_chunk(df_topiclinked) # save the datasets into chunks\n",
    "start_title_crawler_thread(div) # crawl the game titles in different langugages"
   ]
  },
  {
   "cell_type": "markdown",
   "id": "515874b8",
   "metadata": {},
   "source": [
    "- After we parse down the game topics in different languages, we then parse down all the pageviews in every game topic in every language in the selected timespan."
   ]
  },
  {
   "cell_type": "code",
   "execution_count": null,
   "id": "9bc6c3bc",
   "metadata": {},
   "outputs": [],
   "source": [
    "start_dt = '2019100100'\n",
    "end_dt = '2020123100'\n",
    "start_pageview_crawler_thread(start_dt, end_dt) #crawl the pageviews for every game title in Wikipidea"
   ]
  },
  {
   "cell_type": "code",
   "execution_count": null,
   "id": "772b05ef",
   "metadata": {},
   "outputs": [],
   "source": [
    "langs =['en','de','fr','it','es','pt','ru','sv','pl','nl','no','da','fi']\n",
    "thread_num = 8\n",
    "crawl_uncrawled_pageviews(df_topiclinked,thread_num,langs, start_dt, end_dt)"
   ]
  },
  {
   "cell_type": "markdown",
   "id": "b37bf7c8",
   "metadata": {},
   "source": [
    "- Then we parse down the game genres for every game from the official api from the Wikipedia in this notebook."
   ]
  },
  {
   "cell_type": "code",
   "execution_count": null,
   "id": "d0736e96",
   "metadata": {},
   "outputs": [],
   "source": [
    "start_genre_crawler_thread()"
   ]
  },
  {
   "cell_type": "markdown",
   "id": "379ee5f0",
   "metadata": {},
   "source": [
    "- Then we classify the game topics into main game genres."
   ]
  },
  {
   "cell_type": "code",
   "execution_count": null,
   "id": "321e520e",
   "metadata": {},
   "outputs": [],
   "source": [
    "result_df = filter_game_genres(raw_game_filepath='./Milestone3/games.csv')\n",
    "display(result_df)"
   ]
  },
  {
   "cell_type": "markdown",
   "id": "edf05de2",
   "metadata": {},
   "source": [
    "- We finish the first round of classification\n",
    "- We classify the overall game genres into bigger categories, which provides a good outcome in this task.\n",
    "- Here we input the genres we extract from the Wikipedia and ask chatgpt to conduct the classification on the smaller genres. Since the extracted genres contain enough information for the chatGPT to process, it provides a robust output in this task"
   ]
  },
  {
   "cell_type": "code",
   "execution_count": null,
   "id": "362b59f1",
   "metadata": {},
   "outputs": [],
   "source": [
    "main_genre_df = main_genre_classification('./Milestone3/gpt-classification_raw.csv',result_df)"
   ]
  },
  {
   "cell_type": "code",
   "execution_count": null,
   "id": "de66c89e",
   "metadata": {},
   "outputs": [],
   "source": [
    "# analyze the classified genres.\n",
    "stats_df = display_main_genre_stats(main_genre_df)\n",
    "visualize_genres_distribution(stats_df,others_threadshold=100)"
   ]
  },
  {
   "cell_type": "markdown",
   "id": "62235aa7",
   "metadata": {},
   "source": [
    "### Get the pageviews in different languages and different genres"
   ]
  },
  {
   "cell_type": "code",
   "execution_count": null,
   "id": "0779f902",
   "metadata": {},
   "outputs": [],
   "source": [
    "visualize_pageviews_in_genre(pageviews_filepath='./Milestone3/pageviews.csv', genres_filepath='./Milestone3/gpt-classification.csv')    "
   ]
  },
  {
   "cell_type": "markdown",
   "id": "80eb447b",
   "metadata": {},
   "source": [
    "- We can see that some game genres for certain languages have fewer pageviews. But the games on Action, RPG, Miscellaenous have larger pageviews for many languages.\n",
    "- Then we analyze the potential links between mobility and pageviews in games\n",
    "- Here we try to analyze whether increased or decreased mobility aligns with heightened interest in specific video game genres, indicating a potential connection between real-world restrictions and virtual entertainment."
   ]
  },
  {
   "cell_type": "code",
   "execution_count": null,
   "id": "70bbcad2",
   "metadata": {},
   "outputs": [],
   "source": [
    "#import the needed dataset\n",
    "interventions = load_interventions()\n",
    "applemob = load_applemob()\n",
    "globalmob = load_globalmob()\n",
    "pageviews = pd.read_csv('./Milestone3/pageviews.csv')\n",
    "game_genres = pd.read_csv('./Milestone3/gpt-classification.csv')\n",
    "\n",
    "baseline = '2020-02-14' #Define it as the baseline for the pageviews\n",
    "d = load_aggregated_timeseries()"
   ]
  },
  {
   "cell_type": "code",
   "execution_count": null,
   "id": "d172647b",
   "metadata": {},
   "outputs": [],
   "source": [
    "# Define the languages needed to analyze\n",
    "data = {\n",
    "    'France': ['fr', 'FR'],\n",
    "    'Denmark': ['da', 'DK'],\n",
    "    'Germany': ['de', 'DE'],\n",
    "    'Italy': ['it', 'IT'],\n",
    "    'Netherlands': ['nl', 'NL'],\n",
    "    'Norway': ['no', 'NO'],\n",
    "    #'Serbia': ['sr', 'RS'],\n",
    "    #'Sweden': ['sv', 'SE'],\n",
    "    #'Korea': ['ko', 'KR'],\n",
    "    #'Catalonia': ['ca', 'ES'],\n",
    "    'Finland': ['fi', 'FI'],\n",
    "    'Japan': ['ja', 'JP']\n",
    "}\n",
    "df_code = pd.DataFrame(data)\n",
    "df_code = df_code.transpose()\n",
    "df_code.rename(columns = {0:'lang', 1:'state'}, inplace = True)\n",
    "code_dict = convert_to_code_dict(df_code)"
   ]
  },
  {
   "cell_type": "code",
   "execution_count": null,
   "id": "01a17f6e",
   "metadata": {},
   "outputs": [],
   "source": [
    "grouped_df, globalmob = merge_mobility_pageview(globalmob, pageviews, game_genres, code_dict) # merge the mobility dataset with the pageview one"
   ]
  },
  {
   "cell_type": "code",
   "execution_count": null,
   "id": "e2e3afb8",
   "metadata": {
    "scrolled": false
   },
   "outputs": [],
   "source": [
    "visualize_mobility_pageviews(globalmob, interventions, df_code)"
   ]
  },
  {
   "cell_type": "markdown",
   "id": "40b201db",
   "metadata": {},
   "source": [
    "- The red line indicates how the pageviews change from baseline while the blue line indicates how the mobility changes from baseline. We can clearly see that as soon as the intervention is implemented, the pageviews on game topics instantly increase in major countries, for example France, Germany and Italy. However, it is not so obvious to observe the reversed trend between mobility and pageviews considering Norway.\n",
    "- After that we tried to look into every country, while considering the pageviews in different game genres."
   ]
  },
  {
   "cell_type": "code",
   "execution_count": null,
   "id": "a77dda58",
   "metadata": {},
   "outputs": [],
   "source": [
    "visualize_different_language('fr',baseline,interventions, grouped_df,globalmob,code_dict,country_name='France',omit_genre=['Music']) # country with very restrctive intervention during lockdown"
   ]
  },
  {
   "cell_type": "code",
   "execution_count": null,
   "id": "eb5078b8",
   "metadata": {},
   "outputs": [],
   "source": [
    "visualize_different_language('de', baseline,interventions,grouped_df,globalmob,code_dict,country_name='Germany',omit_genre=['Music']) #country with restrctive intervention during lockdown"
   ]
  },
  {
   "cell_type": "code",
   "execution_count": null,
   "id": "44aa7541",
   "metadata": {},
   "outputs": [],
   "source": [
    "visualize_different_language('jp', baseline,interventions,grouped_df,globalmob,code_dict,country_name='Japan',omit_genre=['Adult','Adventure','Music']) # country with less restrctive intervention during lockdown"
   ]
  },
  {
   "cell_type": "markdown",
   "id": "2279f6ed",
   "metadata": {},
   "source": [
    "- In the previous studies, we have categorized the lockdown itensity into restrctive, semi-restrctive and unrestrictve, and we now study three countries, one in each of the categories."
   ]
  },
  {
   "cell_type": "markdown",
   "id": "fe27ce93",
   "metadata": {},
   "source": [
    "### France"
   ]
  },
  {
   "cell_type": "markdown",
   "id": "e9ab98dc",
   "metadata": {},
   "source": [
    "- We know that there is avery restrctive implementation in France during the COVID-19 lockdown, and there is a huge amount of time spent on video games, which leads to a constant increase in pageviews of game-related topics. \n",
    "- When considering game genres, we can see that during the lockdown, the video games about Action, Adult, Adventure, Horror, Puzzle, RPG, Sports and Strategy have attracted the greatest increase. Note that the Horror games actually remain more popular than pre-lockdown time after the lockdown had been lifted, while other games are back to normal popularity just like before the lockdown.\n",
    "- We can specifically look into games about Sports and Multiplayer/Online, after society is back to normal, the popularities of these two genres of games actually decline, which is reasonable since people tend to play sports offline and meet offline to hang out and have fun."
   ]
  },
  {
   "cell_type": "markdown",
   "id": "ec0e60e1",
   "metadata": {},
   "source": [
    "### Germany"
   ]
  },
  {
   "cell_type": "markdown",
   "id": "6ba3d321",
   "metadata": {},
   "source": [
    "- We know that Germany is categorized as semi-restrctive during the lockdown, and people tend to enjoy more freedom compared to France during the lockdown. It is not only indicated by the mobility data, but also by the popularity of video games during the lockdown.\n",
    "- Overall there is a minor increase in the popularity of games, but it is obviously milder than that in France. \n",
    "- Regarding different game genres; Miscellanoues, RPG, Stimulation, Sports and Strategy enjoy the most gain from the lockdown, but if you compared it to other same genres in France, it is definitely a smaller gain."
   ]
  },
  {
   "cell_type": "markdown",
   "id": "0311e9d8",
   "metadata": {},
   "source": [
    "### Japan"
   ]
  },
  {
   "cell_type": "markdown",
   "id": "4df12b7a",
   "metadata": {},
   "source": [
    "- Japan actually enjoys less restrctions during the lockdown than is implemented by the government, so the game industry has almost no benefit received from the lockdown.\n",
    "- In general, there is almost no sudden increase or decrease by the time the lockdown is implemented. However there are still some minor gains in the game of Multiplayer/Online, Puzzle, Sports and Strategy. \n",
    "- Furthermore the popularity seems to last longer than expected after the intervention is over. We believe there is an explanation since the mobility has not changed sharply, the popularity in the games can last longer since people are not \"forced\" to play games, instead they actually enjoy video games. So there is some evidence that the game industry in Japan actually benefits from covid in a longer timespan."
   ]
  },
  {
   "cell_type": "markdown",
   "id": "03af048e",
   "metadata": {},
   "source": [
    "## Overall relationship between mobility and video games"
   ]
  },
  {
   "cell_type": "markdown",
   "id": "61a75786",
   "metadata": {},
   "source": [
    "The dataset relative to the mobility (apple and global) are large (especially the global one, but we can filter them to keep the data we need. Indeed, both dataset contain the mobility change percentage per day, compared to a day 0, per region/country. In the apple dataset, this change are grouped by walking, driving and transit and in the global dataset, the changes are grouped by reason for displacement (go to the park, to the pharmacy, etc). In both dataset, certain country don't have data for all the displacement types. For example, we don't have the transit mobility for korea in the apple dataset. Also, for certains countries, the period over which we have data is smaller than the normal length of the dataset. For example, in the global dataset, there is missing values for every dates between 2020-05-18 and 2020-07-03. To filter the data we can choose to keep only a few countries or region. We chose to keep the countries that are presented in the \"interventions\" dataset."
   ]
  },
  {
   "cell_type": "code",
   "execution_count": null,
   "id": "228d3f30",
   "metadata": {},
   "outputs": [],
   "source": [
    "interventions = load_interventions()\n",
    "djson = load_aggregated_timeseries()"
   ]
  },
  {
   "cell_type": "code",
   "execution_count": null,
   "id": "c2bb7aef",
   "metadata": {},
   "outputs": [],
   "source": [
    "interventions.loc['ca']['Normalcy'] = '2020-06-25'"
   ]
  },
  {
   "cell_type": "markdown",
   "id": "f923328d",
   "metadata": {},
   "source": [
    "## Google Mobility"
   ]
  },
  {
   "cell_type": "markdown",
   "id": "6a474ab5",
   "metadata": {},
   "source": [
    "- In this section, we plotted the evolution of mobility in different country during the Covid-19 period, according to the global mobility dataset.\n",
    "\n",
    "- The intervention dataset contains important dates in the evolution of covid 19 in several countries. The ISO 639-1 standard is used to characterize the country. Normally, this standard does not characterize a country, but a language. The standard characterizing a country is ISO 3166-1 alpha-2, used in the global_mobility dataset, but it seems that the code in the intervention dataset corresponds to the country associated with the language. For example, in \"interventions\", we have \"fr\" which characterizes French, but we'll consider that the \"fr\" line corresponds to France.\n",
    "\n",
    "- So, following this logic, we decided to plot the evolution of mobility in France, Denmark, Germany, Italy, the Netherlands, Norway, Serbia, Sweden, South Korea, Catalonia (which is not a country but a region) and Japan.\n",
    "\n",
    "- To make these plots we used the average of mobility change. In the global_mobility dataset we have the change percentage (compared to a day 0) of different type displacement (retail_and_recreation,grocery_and_pharmacy, ...) and from these, we made an average change per day.\n",
    "    \n",
    "- On each plot, the blue curve correspond to this average and the gey ones correspond to the evolution of displacement type.\n",
    "\n",
    "- On each plot, we can see at most 3 lines. The black dotted line corresponds to the lockdown date, the grey one corresponds to the date of return to normality, the blue one corresponds to the mobility restrictions date. All these dates have been taken from the interventions dataset.\n"
   ]
  },
  {
   "cell_type": "code",
   "execution_count": null,
   "id": "6208822a",
   "metadata": {},
   "outputs": [],
   "source": [
    "data, df_code = choose_restrictiveness(\"All\", \"No\")"
   ]
  },
  {
   "cell_type": "code",
   "execution_count": null,
   "id": "dd71e1aa",
   "metadata": {},
   "outputs": [],
   "source": [
    "plotmob_inter(globalmob, df_code, interventions)"
   ]
  },
  {
   "cell_type": "code",
   "execution_count": null,
   "id": "e2dc2428",
   "metadata": {},
   "outputs": [],
   "source": [
    "plotmob(globalmob, df_code, interventions)"
   ]
  },
  {
   "cell_type": "markdown",
   "id": "7cfaf02c",
   "metadata": {},
   "source": [
    "## Lockdown Itensity Google"
   ]
  },
  {
   "cell_type": "markdown",
   "id": "2505a37d",
   "metadata": {},
   "source": [
    "- In this section we used the global mobility dataset to compare the intensity of lockdowns depending on countries.\n",
    "\n",
    "- To determine if a lockdown was intense or not, we took the average of the mobility decrease over the lockdown period.\n",
    "\n",
    "- Also, to be able to compare the curves between them we wanted to plot them on the same graph. To be able to see something we first need to smooth the curves.\n",
    "\n",
    "- Thanks to the smoothered curves and the average bar plot, we can distinguish 3 types of lockdown: Very restrictive, restrictive, unrestrictive."
   ]
  },
  {
   "cell_type": "code",
   "execution_count": null,
   "id": "0c397458",
   "metadata": {},
   "outputs": [],
   "source": [
    "meanmobplot(df_code, interventions, globalmob)"
   ]
  },
  {
   "cell_type": "code",
   "execution_count": null,
   "id": "60620a6c",
   "metadata": {},
   "outputs": [],
   "source": [
    "smoothedmobility(df_code, globalmob)"
   ]
  },
  {
   "cell_type": "code",
   "execution_count": null,
   "id": "bf6b58a5",
   "metadata": {},
   "outputs": [],
   "source": [
    "aggregatedmobilitysmoothedplot(df_code, globalmob)"
   ]
  },
  {
   "cell_type": "code",
   "execution_count": null,
   "id": "1eab3f6e",
   "metadata": {},
   "outputs": [],
   "source": [
    "desaggregatedmobilitysmoothed(df_code, globalmob)"
   ]
  },
  {
   "cell_type": "markdown",
   "id": "00987c20",
   "metadata": {},
   "source": [
    "## Graph Apple"
   ]
  },
  {
   "cell_type": "markdown",
   "id": "dbe4cf5c",
   "metadata": {},
   "source": [
    "- In this section, we plotted the evolution of mobility in different country during the Covid-19 period, according to the apple mobility dataset.\n",
    "- The difference with the google mobility dataset is that the different mobilities are grouped in 3 groups: walking, driving and transit.\n",
    "- We therefore plotted the 3 differents type of mobility for each country. For 2 countries (Korea and Serbia) we don't have the mobility for transit mobiliyt data. Also, in the interventions dataset we have informations about catalonia and we don't have a location \"catalonia\". So instead we plotted the mobility data from Barcelona, which is Catalonia's biggest city."
   ]
  },
  {
   "cell_type": "code",
   "execution_count": null,
   "id": "ef487cda",
   "metadata": {},
   "outputs": [],
   "source": [
    "plotmobapple(applemob, df_code, interventions)"
   ]
  },
  {
   "cell_type": "markdown",
   "id": "cee7cc59",
   "metadata": {},
   "source": [
    "## Json"
   ]
  },
  {
   "cell_type": "markdown",
   "id": "480f9edf",
   "metadata": {},
   "source": [
    "- In this section we plot the percentage of pageviews related to videogames for each country over time. We can see that there is globally a small increase during Covid lockdown. We also smoothed the curves with a polynomial function."
   ]
  },
  {
   "cell_type": "code",
   "execution_count": null,
   "id": "bf6df6f8",
   "metadata": {},
   "outputs": [],
   "source": [
    "pageviewsplot(df_code, interventions, djson)"
   ]
  },
  {
   "cell_type": "code",
   "execution_count": null,
   "id": "3a68fe10",
   "metadata": {},
   "outputs": [],
   "source": [
    "aggregatedpageviewsplot(df_code, djson, interventions)"
   ]
  },
  {
   "cell_type": "code",
   "execution_count": null,
   "id": "3055fb1b",
   "metadata": {},
   "outputs": [],
   "source": [
    "desaggregatedpageviewsplot(df_code, djson, interventions)"
   ]
  },
  {
   "cell_type": "code",
   "execution_count": null,
   "id": "9936f41d",
   "metadata": {},
   "outputs": [],
   "source": [
    "correlationanalysisplot_false(df_code, globalmob, djson)"
   ]
  },
  {
   "cell_type": "code",
   "execution_count": null,
   "id": "c5931336",
   "metadata": {},
   "outputs": [],
   "source": [
    "pearsonpageviews_false(df_code, globalmob, djson)"
   ]
  },
  {
   "cell_type": "code",
   "execution_count": null,
   "id": "50d7c8af",
   "metadata": {},
   "outputs": [],
   "source": [
    "pearsonpageviews_plot(df_code, globalmob, djson)"
   ]
  },
  {
   "cell_type": "code",
   "execution_count": null,
   "id": "284d9a96",
   "metadata": {},
   "outputs": [],
   "source": [
    "pearsonpageviews_plot_inter(df_code, globalmob, djson)"
   ]
  },
  {
   "cell_type": "code",
   "execution_count": null,
   "id": "80d18da0",
   "metadata": {},
   "outputs": [],
   "source": [
    "medianpercentage_plot(df_code, globalmob, djson, interventions)"
   ]
  },
  {
   "cell_type": "code",
   "execution_count": null,
   "id": "3e29d28d",
   "metadata": {},
   "outputs": [],
   "source": [
    "medianpercentage_boxplot(df_code, globalmob, djson, interventions)"
   ]
  },
  {
   "cell_type": "code",
   "execution_count": null,
   "id": "5009b12b",
   "metadata": {},
   "outputs": [],
   "source": []
  },
  {
   "cell_type": "markdown",
   "id": "93fbf8fc",
   "metadata": {},
   "source": []
  },
  {
   "cell_type": "markdown",
   "id": "af2b64ed",
   "metadata": {},
   "source": []
  },
  {
   "cell_type": "code",
   "execution_count": null,
   "id": "1a68b31e",
   "metadata": {},
   "outputs": [],
   "source": []
  },
  {
   "cell_type": "markdown",
   "id": "7c67daec",
   "metadata": {},
   "source": []
  },
  {
   "cell_type": "markdown",
   "id": "0d892b41",
   "metadata": {},
   "source": []
  },
  {
   "cell_type": "code",
   "execution_count": null,
   "id": "a7f5d5cb",
   "metadata": {},
   "outputs": [],
   "source": []
  },
  {
   "cell_type": "markdown",
   "id": "eceea967",
   "metadata": {},
   "source": []
  },
  {
   "cell_type": "markdown",
   "id": "c37d7f3c",
   "metadata": {},
   "source": []
  },
  {
   "cell_type": "code",
   "execution_count": null,
   "id": "6f474e73",
   "metadata": {},
   "outputs": [],
   "source": []
  }
 ],
 "metadata": {
  "kernelspec": {
   "display_name": "Python 3 (ipykernel)",
   "language": "python",
   "name": "python3"
  },
  "language_info": {
   "codemirror_mode": {
    "name": "ipython",
    "version": 3
   },
   "file_extension": ".py",
   "mimetype": "text/x-python",
   "name": "python",
   "nbconvert_exporter": "python",
   "pygments_lexer": "ipython3",
   "version": "3.11.4"
  }
 },
 "nbformat": 4,
 "nbformat_minor": 5
}
